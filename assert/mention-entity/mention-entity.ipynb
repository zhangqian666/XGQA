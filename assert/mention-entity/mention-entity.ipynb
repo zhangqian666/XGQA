{
 "cells": [
  {
   "cell_type": "code",
   "execution_count": 32,
   "metadata": {
    "pycharm": {
     "name": "#%%\n"
    }
   },
   "outputs": [
    {
     "name": "stdout",
     "output_type": "stream",
     "text": [
      "['O', 'O', 'B', 'I', 'I', 'I', 'I', 'I', 'I', 'I', 'I', 'I', 'I', 'O', 'B', 'I', 'I', 'I', 'I', 'I', 'I', 'O', 'B', 'I', 'I', 'I', 'I', 'I', 'I', 'I', 'O', 'O', 'O', 'O', 'O', 'O', 'O', 'O', 'O', 'O', 'O', 'O', 'O', 'O', 'O']\n",
      "[('B', '老年人慢性阻塞性肺疾病'), ('B', '新生儿呼吸暂停'), ('B', '先天性肺动静脉瘘')]\n",
      "0.039675235748291016\n",
      "Got 10000 Hits:\n",
      "{'_index': 'normal_index', '_type': 'normal_info', '_id': 'OlLVK3YBlwk3L19hhNL0', '_score': 51.26427, '_source': {'alias': '慢性阻塞性肺疾病', 'entity': '慢性阻塞性肺疾病_（医疗百科）', 'num': '2020-12-04T11:39:41.721996'}}\n",
      "{'_index': 'normal_index', '_type': 'normal_info', '_id': 'swL_K3YBlwk3L19hLb0w', '_score': 47.45352, '_source': {'alias': '慢性阻塞性肺病', 'entity': '慢性阻塞性肺疾病_（医疗百科）', 'num': '2020-12-04T12:25:11.789829'}}\n",
      "{'_index': 'normal_index', '_type': 'normal_info', '_id': '3uH3K3YBlwk3L19hKiS5', '_score': 46.132557, '_source': {'alias': '慢性阻塞性肺疾病控制', 'entity': '慢性阻塞性肺疾病控制', 'num': '2020-12-04T12:16:26.946142'}}\n",
      "{'_index': 'normal_index', '_type': 'normal_info', '_id': 'Xm_cK3YBlwk3L19hMX4g', '_score': 46.132557, '_source': {'alias': '慢性阻塞性肺疾病咨询', 'entity': '慢性阻塞性肺疾病咨询', 'num': '2020-12-04T11:46:58.693423'}}\n",
      "{'_index': 'normal_index', '_type': 'normal_info', '_id': 'iVPVK3YBlwk3L19hwObh', '_score': 46.132557, '_source': {'alias': '慢性阻塞性肺疾病图解', 'entity': '慢性阻塞性肺疾病图解', 'num': '2020-12-04T11:39:56.547571'}}\n",
      "{'_index': 'normal_index', '_type': 'normal_info', '_id': 'A77vK3YBlwk3L19hBjH1', '_score': 46.132557, '_source': {'alias': '慢性阻塞性肺疾病康复', 'entity': '慢性阻塞性肺疾病康复', 'num': '2020-12-04T12:07:31.964795'}}\n",
      "{'_index': 'normal_index', '_type': 'normal_info', '_id': 'PaHoK3YBlwk3L19hHCRP', '_score': 46.132557, '_source': {'alias': '慢性阻塞性肺疾病图谱', 'entity': '慢性阻塞性肺疾病图谱', 'num': '2020-12-04T11:59:59.137658'}}\n",
      "{'_index': 'normal_index', '_type': 'normal_info', '_id': '9JnmK3YBlwk3L19hX9mR', '_score': 46.132557, '_source': {'alias': '远离慢性阻塞性肺疾病', 'entity': '远离慢性阻塞性肺疾病', 'num': '2020-12-04T11:58:04.763380'}}\n",
      "{'_index': 'normal_index', '_type': 'normal_info', '_id': 'DYXhK3YBlwk3L19hjWn7', '_score': 45.751232, '_source': {'alias': '肺阻塞性疾病', 'entity': '肺阻塞性疾病', 'num': '2020-12-04T11:52:49.439720'}}\n",
      "{'_index': 'normal_index', '_type': 'normal_info', '_id': 'wrPsK3YBlwk3L19hkopo', '_score': 45.558884, '_source': {'alias': '慢性阻塞性肺疾病与慢性肺源性心脏病', 'entity': '慢性阻塞性肺疾病与慢性肺源性心脏病', 'num': '2020-12-04T12:04:52.626414'}}\n",
      "{'_index': 'normal_index', '_type': 'normal_info', '_id': '-HjeK3YBlwk3L19hT3Q1', '_score': 44.114456, '_source': {'alias': '慢性阻塞性肺疾病与肺源性心脏病', 'entity': '慢性阻塞性肺疾病与肺源性心脏病', 'num': '2020-12-04T11:49:16.485754'}}\n",
      "{'_index': 'normal_index', '_type': 'normal_info', '_id': 'z33fK3YBlwk3L19hkiS9', '_score': 44.114456, '_source': {'alias': '慢性阻塞性肺疾病与肺原性心脏病', 'entity': '慢性阻塞性肺疾病与肺原性心脏病', 'num': '2020-12-04T11:50:39.382967'}}\n",
      "{'_index': 'normal_index', '_type': 'normal_info', '_id': '7Z3nK3YBlwk3L19hNU8Q', '_score': 42.49765, '_source': {'alias': '慢性阻塞性肺病防治', 'entity': '慢性阻塞性肺病防治', 'num': '2020-12-04T11:59:00.533187'}}\n",
      "{'_index': 'normal_index', '_type': 'normal_info', '_id': 'iE7UK3YBlwk3L19hiJBK', '_score': 42.081375, '_source': {'alias': '慢性阻塞性肺炎', 'entity': '慢性阻塞性肺炎', 'num': '2020-12-04T11:38:36.721929'}}\n",
      "{'_index': 'normal_index', '_type': 'normal_info', '_id': 'hXzfK3YBlwk3L19hTyZ2', '_score': 41.946613, '_source': {'alias': '慢性阻塞性肺疾病诊断标准', 'entity': '慢性阻塞性肺疾病诊断标准', 'num': '2020-12-04T11:50:23.522785'}}\n"
     ]
    }
   ],
   "source": [
    "from bert_base.client import BertClient\n",
    "from elasticsearch import Elasticsearch\n",
    "import time\n",
    "\n",
    "entity_labels = [\"B\"]\n",
    "\n",
    "question = \"患有老年人慢性阻塞性肺疾病、新生儿呼吸暂停和先天性肺动静脉瘘这些疾病时，应该去做哪项检查？\"\n",
    "with BertClient(port=5555, port_out=5556, show_server_config=False, check_version=False, check_length=False,\n",
    "                mode='NER') as bc:\n",
    "    start_t = time.perf_counter()\n",
    "    str_input_list = list(question)\n",
    "    rst = bc.encode([question])\n",
    "    question_labels = list(rst[0])\n",
    "    print(question_labels)\n",
    "    all_entity = []\n",
    "    \n",
    "    entity_list = []\n",
    "    entity_list_number = 0\n",
    "    current_b_labels = None\n",
    "    for labels in question_labels:\n",
    "\n",
    "        if labels in entity_labels:\n",
    "            current_b_labels = labels\n",
    "\n",
    "        if labels != 'O':\n",
    "            entity_list.append(str_input_list[entity_list_number])\n",
    "        else:\n",
    "            if len(entity_list) > 0:\n",
    "                entity_str = \"\".join(entity_list)\n",
    "                if current_b_labels is not None:\n",
    "                    all_entity.append((current_b_labels, entity_str))\n",
    "                current_b_labels = None\n",
    "                entity_list = []\n",
    "\n",
    "        entity_list_number += 1\n",
    "\n",
    "    if len(entity_list) > 0:\n",
    "        entity_str = \"\".join(entity_list)\n",
    "        all_entity.append((current_b_labels, entity_str))\n",
    "    print(all_entity)\n",
    "    ###es 内容#####\n",
    "    alias = all_entity[0][1]\n",
    "    es = Elasticsearch(\"172.17.0.7\",http_auth=('elastic', 'password'), port = 9200)\n",
    "    dsl = {\n",
    "        \"query\": {\n",
    "            \"match\": {\"alias\":alias }\n",
    "        }\n",
    "    }\n",
    "    s = time.time()\n",
    "    res = es.search(index=\"normal_index\",doc_type=\"normal_info\", size=15, body=dsl)\n",
    "    print(time.time() - s)\n",
    "    print(\"Got %d Hits:\" % res['hits']['total']['value'])\n",
    "    for hit in res['hits']['hits']:\n",
    "        print(hit)\n",
    "        \n",
    "    "
   ]
  },
  {
   "cell_type": "code",
   "execution_count": null,
   "outputs": [],
   "source": [],
   "metadata": {
    "collapsed": false,
    "pycharm": {
     "name": "#%%\n"
    }
   }
  }
 ],
 "metadata": {
  "kernelspec": {
   "display_name": "xgqa",
   "language": "python",
   "name": "xgqa"
  },
  "language_info": {
   "codemirror_mode": {
    "name": "ipython",
    "version": 3
   },
   "file_extension": ".py",
   "mimetype": "text/x-python",
   "name": "python",
   "nbconvert_exporter": "python",
   "pygments_lexer": "ipython3",
   "version": "3.6.10"
  },
  "pycharm": {
   "stem_cell": {
    "cell_type": "raw",
    "source": [],
    "metadata": {
     "collapsed": false
    }
   }
  }
 },
 "nbformat": 4,
 "nbformat_minor": 2
}